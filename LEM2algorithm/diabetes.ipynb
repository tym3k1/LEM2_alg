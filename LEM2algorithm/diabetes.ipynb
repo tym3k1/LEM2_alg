{
 "cells": [
  {
   "cell_type": "code",
   "execution_count": 1,
   "metadata": {},
   "outputs": [],
   "source": [
    "from sklearn.model_selection import train_test_split\n",
    "import pandas as pd\n",
    "from lem2Alg import *\n",
    "from sklearn.preprocessing import StandardScaler\n",
    "\n",
    "import numpy as np\n",
    "from sklearn.metrics import mean_squared_error as mse\n",
    "\n",
    "from sklearn.model_selection import StratifiedKFold\n",
    "from sklearn.metrics import f1_score\n",
    "from sklearn.metrics import roc_curve, auc\n",
    "\n",
    "import matplotlib.pyplot as plt\n"
   ]
  },
  {
   "cell_type": "code",
   "execution_count": 2,
   "metadata": {},
   "outputs": [],
   "source": [
    "columns = [\"preg\", \"glu\", \"bp\", \"st\", \"insulin\", \"BMI\", \"dpf\", \"age\", \"oc\"]\n",
    "df = pd.read_csv(\"diabetes.txt\", names=columns, sep=\" \")"
   ]
  },
  {
   "cell_type": "code",
   "execution_count": 3,
   "metadata": {},
   "outputs": [],
   "source": [
    "for item in [\"glu\", \"bp\", \"st\", \"insulin\", \"BMI\"]:\n",
    "    df[item].replace(0, df[item].median(), inplace=True)\n",
    "\n",
    "df['bmi_age'] = df['BMI'] * df['age']\n",
    "df['bmi_bp'] = df['BMI'] * df['bp']\n",
    "df['bp_age'] = df['bp'] * df['age']\n",
    "df['glu_ins'] = df['glu'] * df['insulin']\n",
    "df['age_glu'] = df['age'] * df['glu']\n",
    "df['bmi_ins'] = df['BMI'] * df['insulin']\n",
    "df['preg_ins'] = df['preg'] * df['insulin']\n",
    "df['bmi_st'] = df['BMI'] * df['st']\n",
    "df['age_preg'] = df['age'] * df['preg']\n",
    "df['dpf_glu'] = df['dpf'] * df['glu']\n",
    "df['preg_glu'] = df['preg'] * df['glu']\n",
    "df['dpf_insulin'] = df['dpf'] * df['insulin']\n",
    "df['dpf_insulin'] = df['dpf'] * df['BMI']\n",
    "df['glu_bmi_preg'] = df['glu'] * df['age'] * df['preg'] \n",
    "df['glu_bmi_age'] = df['glu'] * df['age'] * df['BMI']\n",
    "df['glu_ins_age'] = df['glu'] * df['age'] * df['insulin'] \n",
    "df['bmi_ins_glu'] = df['BMI'] * df['glu'] * df['insulin'] \n",
    "df['bmi_preg_age'] = df['BMI'] * df['age'] * df['preg'] \n",
    "df['bmi_glu_dpf'] = df['BMI'] * df['glu'] * df['dpf'] \n",
    "df['preg_glu_ins'] = df['preg'] * df['glu'] * df['insulin']\n",
    "\n",
    "df['bmi+st'] = df['BMI'] + df['st']\n",
    "df['bmi+age'] = df['BMI'] + df['age']\n",
    "df['glu+ins'] = df['glu'] + df['insulin']\n",
    "df['preg+ins'] = df['preg'] + df['insulin']\n",
    "\n",
    "\n",
    "\n",
    "\n",
    "class_0 = df[df['oc'] == 0]\n",
    "class_1 = df[df['oc'] == 1]\n",
    "\n",
    "from sklearn.utils import resample\n",
    "spam_upsample = resample(class_1,\n",
    "             replace=True,\n",
    "             n_samples=len(class_0),\n",
    "             random_state=42)\n",
    "\n",
    "df = pd.concat([class_0, spam_upsample])\n",
    "df = df.sample(frac=1).reset_index(drop=True)"
   ]
  },
  {
   "cell_type": "code",
   "execution_count": 4,
   "metadata": {},
   "outputs": [],
   "source": [
    "model = lem2Classifier()\n",
    "\n",
    "X = df.drop(['oc'], axis=1)\n",
    "y = df['oc']"
   ]
  },
  {
   "cell_type": "code",
   "execution_count": 5,
   "metadata": {},
   "outputs": [],
   "source": [
    "from sklearn.preprocessing import StandardScaler\n",
    "scaler = StandardScaler()\n",
    "x_scaled = scaler.fit_transform(X)\n",
    "x_scaled = pd.DataFrame(x_scaled)\n",
    "X = pd.DataFrame(scaler.fit_transform(X), columns=X.columns)\n",
    "\n"
   ]
  },
  {
   "cell_type": "code",
   "execution_count": 6,
   "metadata": {},
   "outputs": [
    {
     "name": "stdout",
     "output_type": "stream",
     "text": [
      "{'preg': 401, 'age_preg': 54, 'glu': 107, 'oc': 518, 'BMI': 93, 'age': 64, 'age_glu': 5, 'insulin': 317, 'bp': 99, 'preg_ins': 122, 'dpf': 117, 'bp_age': 21, 'preg+ins': 122, 'glu+ins': 5, 'bmi_age': 51, 'bmi_bp': 7, 'bmi_ins': 6, 'bmi+st': 4, 'preg_glu': 12, 'bmi_st': 3, 'st': 34, 'glu_ins': 12, 'bmi+age': 5, 'preg_glu_ins': 4}\n",
      "[False, False, False, True, True, False, True, True, False, True, False, False, True, False, True, True, False, False, True, False, False, True, True, True, True, True, True, False, False, True, True, False, True, True, False, False, True, False, True, True, False, True, True, True, False, True, True, True, False, True, True, True, True, True, False, True, True, True, True, False, True, True, False, True, False, False, True, False, False, True, True, False, True, True, False, True, False, False, False, False, True, False, True, False, False, True, False, True, False, True, True, True, True, True, False, True, True, True, False, True]\n",
      "{'preg': 385, 'age_preg': 56, 'oc': 510, 'age_glu': 10, 'bp_age': 22, 'preg_ins': 103, 'st': 100, 'glu_ins': 11, 'dpf': 120, 'age': 54, 'BMI': 97, 'glu': 116, 'bp': 98, 'insulin': 249, 'bmi_age': 49, 'bmi_st': 3, 'bmi+age': 6, 'preg+ins': 66, 'glu+ins': 9, 'preg_glu': 15, 'preg_glu_ins': 4, 'bmi_ins': 5, 'bmi+st': 4, 'bmi_bp': 11, 'glu_bmi_preg': 3, 'bmi_preg_age': 2}\n",
      "[True, True, False, True, False, True, False, False, False, False, False, False, False, True, False, True, False, True, False, True, True, True, True, False, False, False, True, True, False, True, False, True, True, False, False, True, False, True, True, True, True, True, True, True, True, True, True, False, False, True, True, True, False, True, True, False, True, True, False, True, False, True, True, False, True, False, False, True, False, True, False, True, False, True, False, False, True, True, True, False, True, True, True, True, False, False, False, True, False, True, False, True, False, True, False, True, True, False, False, True]\n",
      "{'preg': 384, 'age_preg': 69, 'bp_age': 22, 'oc': 502, 'glu': 109, 'st': 56, 'BMI': 94, 'age': 78, 'age_glu': 8, 'preg_ins': 116, 'dpf': 115, 'bp': 100, 'glu+ins': 8, 'glu_ins': 7, 'preg+ins': 87, 'insulin': 221, 'preg_glu': 13, 'bmi_age': 57, 'bmi_bp': 12, 'bmi_ins': 5, 'bmi_st': 2, 'bmi+age': 4, 'preg_glu_ins': 4, 'glu_bmi_preg': 2, 'bmi_preg_age': 2}\n",
      "[True, False, False, True, True, False, True, True, True, True, False, True, True, True, False, True, True, True, True, True, False, False, True, False, True, True, False, True, True, True, True, True, False, False, True, True, True, False, False, False, False, True, False, False, False, False, False, False, True, False, False, True, True, False, False, False, True, False, True, True, False, True, False, True, True, True, True, False, True, False, False, False, True, False, True, True, True, True, False, True, True, True, False, True, True, False, False, False, True, True, True, True, True, True, False, True, False, False, False, False]\n"
     ]
    }
   ],
   "source": [
    "kf = StratifiedKFold(n_splits=10, shuffle=True, random_state=42)\n",
    "from sklearn.metrics import confusion_matrix, accuracy_score, precision_score, recall_score\n",
    "scores, sens, spec, pre, aucs = [], [], [], [], []\n",
    "for train_index, test_index in kf.split(X, y):\n",
    "    X_train, X_test = X.iloc[train_index], X.iloc[test_index]\n",
    "    y_train, y_test = y.iloc[train_index], y.iloc[test_index]\n",
    "\n",
    "    model.fit(X_train, y_train)\n",
    "    y_pred = model.predict(X_test)\n",
    "    print(y_pred)\n",
    "    predictions_series = pd.Series(y_pred)\n",
    "    # Calculate the F1 score\n",
    "    sensitivity = recall_score(y_test.astype(int), predictions_series.astype(int), pos_label=1)\n",
    "    sens.append(sensitivity)\n",
    "    specificity = recall_score(y_test.astype(int), predictions_series.astype(int), pos_label=0)\n",
    "    spec.append(specificity)\n",
    "    precision = precision_score(y_test.astype(int), predictions_series.astype(int)) \n",
    "    pre.append(precision)\n",
    "    f1 = f1_score(y_test, y_pred)\n",
    "    scores.append(f1)\n",
    "    fpr, tpr, thresholds = roc_curve(y_test, y_pred)\n",
    "    roc_auc = auc(fpr, tpr)\n",
    "    aucs.append(roc_auc)"
   ]
  },
  {
   "cell_type": "code",
   "execution_count": null,
   "metadata": {},
   "outputs": [],
   "source": [
    "# Print the average F1 score\n",
    "print(\"Average F1 score:\", np.mean(scores))\n",
    "average_auc = sum(aucs) / len(aucs)\n",
    "print('Average AUC:', average_auc)\n",
    "print(\"Average sens score:\", np.mean(sens))\n",
    "print(\"Average spec score:\", np.mean(spec))\n",
    "print(\"Average prec score:\", np.mean(pre))\n",
    "\n",
    "# Plot the ROC curve\n",
    "plt.plot(fpr, tpr, label='AUC = %0.2f' % average_auc)\n",
    "plt.xlabel('False Positive Rate')\n",
    "plt.ylabel('True Positive Rate')\n",
    "plt.title('ROC Curve')\n",
    "plt.legend()\n",
    "plt.show()\n",
    "\n",
    "''' Average F1 score: 0.7983312240502646\n",
    "Average AUC: 0.7909999999999999\n",
    "Average sens score: 0.828\n",
    "Average spec score: 0.754\n",
    "Average prec score: 0.7734465152302541 '''\n",
    "\n",
    "''' Average F1 score: 0.8151394118422811\n",
    "Average AUC: 0.8049999999999999\n",
    "Average sens score: 0.858\n",
    "Average spec score: 0.752\n",
    "Average prec score: 0.7780823982521291 '''"
   ]
  },
  {
   "cell_type": "code",
   "execution_count": null,
   "metadata": {},
   "outputs": [],
   "source": [
    "import seaborn as sns\n",
    "xd = confusion_matrix(y_test.astype(int), predictions_series.astype(int), labels=model.decision_variables)\n",
    "plt.figure(figsize=(8, 6))\n",
    "sns.heatmap(xd, annot=True, fmt='d', cmap='Blues', cbar=False)\n",
    "plt.xlabel('Predicted')\n",
    "plt.ylabel('True')\n",
    "plt.title('Confusion Matrix')\n",
    "plt.show()"
   ]
  }
 ],
 "metadata": {
  "kernelspec": {
   "display_name": "Python 3",
   "language": "python",
   "name": "python3"
  },
  "language_info": {
   "codemirror_mode": {
    "name": "ipython",
    "version": 3
   },
   "file_extension": ".py",
   "mimetype": "text/x-python",
   "name": "python",
   "nbconvert_exporter": "python",
   "pygments_lexer": "ipython3",
   "version": "3.8.5"
  },
  "orig_nbformat": 4
 },
 "nbformat": 4,
 "nbformat_minor": 2
}
